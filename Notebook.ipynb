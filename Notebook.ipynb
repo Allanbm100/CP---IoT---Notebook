{
  "nbformat": 4,
  "nbformat_minor": 0,
  "metadata": {
    "colab": {
      "provenance": []
    },
    "kernelspec": {
      "name": "python3",
      "display_name": "Python 3"
    },
    "language_info": {
      "name": "python"
    }
  },
  "cells": [
    {
      "cell_type": "markdown",
      "source": [
        "\n",
        "# **IMPORTAÇÃO DOS PACOTES**"
      ],
      "metadata": {
        "id": "RVihEqd560gg"
      }
    },
    {
      "cell_type": "code",
      "source": [
        "import pandas as pd\n",
        "import matplotlib.pyplot as plt\n",
        "import seaborn as sns\n",
        "import numpy as np\n"
      ],
      "metadata": {
        "id": "jkMuDBuK9ibm"
      },
      "execution_count": 1,
      "outputs": []
    },
    {
      "cell_type": "markdown",
      "source": [
        "### Criação do Dataframe com base no .CSV\n"
      ],
      "metadata": {
        "id": "ODG0PuRw7FoI"
      }
    },
    {
      "cell_type": "code",
      "source": [
        "dados = pd.read_csv('/content/household_power_consumption.txt', sep=';', low_memory=False)"
      ],
      "metadata": {
        "id": "G0IKfBzH9wdQ",
        "colab": {
          "base_uri": "https://localhost:8080/",
          "height": 287
        },
        "outputId": "81a2bd78-0450-4546-e270-934783a39ce6"
      },
      "execution_count": 2,
      "outputs": [
        {
          "output_type": "error",
          "ename": "FileNotFoundError",
          "evalue": "[Errno 2] No such file or directory: '/content/household_power_consumption.txt'",
          "traceback": [
            "\u001b[0;31m---------------------------------------------------------------------------\u001b[0m",
            "\u001b[0;31mFileNotFoundError\u001b[0m                         Traceback (most recent call last)",
            "\u001b[0;32m/tmp/ipython-input-2139322248.py\u001b[0m in \u001b[0;36m<cell line: 0>\u001b[0;34m()\u001b[0m\n\u001b[0;32m----> 1\u001b[0;31m \u001b[0mdados\u001b[0m \u001b[0;34m=\u001b[0m \u001b[0mpd\u001b[0m\u001b[0;34m.\u001b[0m\u001b[0mread_csv\u001b[0m\u001b[0;34m(\u001b[0m\u001b[0;34m'/content/household_power_consumption.txt'\u001b[0m\u001b[0;34m,\u001b[0m \u001b[0msep\u001b[0m\u001b[0;34m=\u001b[0m\u001b[0;34m';'\u001b[0m\u001b[0;34m,\u001b[0m \u001b[0mlow_memory\u001b[0m\u001b[0;34m=\u001b[0m\u001b[0;32mFalse\u001b[0m\u001b[0;34m)\u001b[0m\u001b[0;34m\u001b[0m\u001b[0;34m\u001b[0m\u001b[0m\n\u001b[0m",
            "\u001b[0;32m/usr/local/lib/python3.12/dist-packages/pandas/io/parsers/readers.py\u001b[0m in \u001b[0;36mread_csv\u001b[0;34m(filepath_or_buffer, sep, delimiter, header, names, index_col, usecols, dtype, engine, converters, true_values, false_values, skipinitialspace, skiprows, skipfooter, nrows, na_values, keep_default_na, na_filter, verbose, skip_blank_lines, parse_dates, infer_datetime_format, keep_date_col, date_parser, date_format, dayfirst, cache_dates, iterator, chunksize, compression, thousands, decimal, lineterminator, quotechar, quoting, doublequote, escapechar, comment, encoding, encoding_errors, dialect, on_bad_lines, delim_whitespace, low_memory, memory_map, float_precision, storage_options, dtype_backend)\u001b[0m\n\u001b[1;32m   1024\u001b[0m     \u001b[0mkwds\u001b[0m\u001b[0;34m.\u001b[0m\u001b[0mupdate\u001b[0m\u001b[0;34m(\u001b[0m\u001b[0mkwds_defaults\u001b[0m\u001b[0;34m)\u001b[0m\u001b[0;34m\u001b[0m\u001b[0;34m\u001b[0m\u001b[0m\n\u001b[1;32m   1025\u001b[0m \u001b[0;34m\u001b[0m\u001b[0m\n\u001b[0;32m-> 1026\u001b[0;31m     \u001b[0;32mreturn\u001b[0m \u001b[0m_read\u001b[0m\u001b[0;34m(\u001b[0m\u001b[0mfilepath_or_buffer\u001b[0m\u001b[0;34m,\u001b[0m \u001b[0mkwds\u001b[0m\u001b[0;34m)\u001b[0m\u001b[0;34m\u001b[0m\u001b[0;34m\u001b[0m\u001b[0m\n\u001b[0m\u001b[1;32m   1027\u001b[0m \u001b[0;34m\u001b[0m\u001b[0m\n\u001b[1;32m   1028\u001b[0m \u001b[0;34m\u001b[0m\u001b[0m\n",
            "\u001b[0;32m/usr/local/lib/python3.12/dist-packages/pandas/io/parsers/readers.py\u001b[0m in \u001b[0;36m_read\u001b[0;34m(filepath_or_buffer, kwds)\u001b[0m\n\u001b[1;32m    618\u001b[0m \u001b[0;34m\u001b[0m\u001b[0m\n\u001b[1;32m    619\u001b[0m     \u001b[0;31m# Create the parser.\u001b[0m\u001b[0;34m\u001b[0m\u001b[0;34m\u001b[0m\u001b[0m\n\u001b[0;32m--> 620\u001b[0;31m     \u001b[0mparser\u001b[0m \u001b[0;34m=\u001b[0m \u001b[0mTextFileReader\u001b[0m\u001b[0;34m(\u001b[0m\u001b[0mfilepath_or_buffer\u001b[0m\u001b[0;34m,\u001b[0m \u001b[0;34m**\u001b[0m\u001b[0mkwds\u001b[0m\u001b[0;34m)\u001b[0m\u001b[0;34m\u001b[0m\u001b[0;34m\u001b[0m\u001b[0m\n\u001b[0m\u001b[1;32m    621\u001b[0m \u001b[0;34m\u001b[0m\u001b[0m\n\u001b[1;32m    622\u001b[0m     \u001b[0;32mif\u001b[0m \u001b[0mchunksize\u001b[0m \u001b[0;32mor\u001b[0m \u001b[0miterator\u001b[0m\u001b[0;34m:\u001b[0m\u001b[0;34m\u001b[0m\u001b[0;34m\u001b[0m\u001b[0m\n",
            "\u001b[0;32m/usr/local/lib/python3.12/dist-packages/pandas/io/parsers/readers.py\u001b[0m in \u001b[0;36m__init__\u001b[0;34m(self, f, engine, **kwds)\u001b[0m\n\u001b[1;32m   1618\u001b[0m \u001b[0;34m\u001b[0m\u001b[0m\n\u001b[1;32m   1619\u001b[0m         \u001b[0mself\u001b[0m\u001b[0;34m.\u001b[0m\u001b[0mhandles\u001b[0m\u001b[0;34m:\u001b[0m \u001b[0mIOHandles\u001b[0m \u001b[0;34m|\u001b[0m \u001b[0;32mNone\u001b[0m \u001b[0;34m=\u001b[0m \u001b[0;32mNone\u001b[0m\u001b[0;34m\u001b[0m\u001b[0;34m\u001b[0m\u001b[0m\n\u001b[0;32m-> 1620\u001b[0;31m         \u001b[0mself\u001b[0m\u001b[0;34m.\u001b[0m\u001b[0m_engine\u001b[0m \u001b[0;34m=\u001b[0m \u001b[0mself\u001b[0m\u001b[0;34m.\u001b[0m\u001b[0m_make_engine\u001b[0m\u001b[0;34m(\u001b[0m\u001b[0mf\u001b[0m\u001b[0;34m,\u001b[0m \u001b[0mself\u001b[0m\u001b[0;34m.\u001b[0m\u001b[0mengine\u001b[0m\u001b[0;34m)\u001b[0m\u001b[0;34m\u001b[0m\u001b[0;34m\u001b[0m\u001b[0m\n\u001b[0m\u001b[1;32m   1621\u001b[0m \u001b[0;34m\u001b[0m\u001b[0m\n\u001b[1;32m   1622\u001b[0m     \u001b[0;32mdef\u001b[0m \u001b[0mclose\u001b[0m\u001b[0;34m(\u001b[0m\u001b[0mself\u001b[0m\u001b[0;34m)\u001b[0m \u001b[0;34m->\u001b[0m \u001b[0;32mNone\u001b[0m\u001b[0;34m:\u001b[0m\u001b[0;34m\u001b[0m\u001b[0;34m\u001b[0m\u001b[0m\n",
            "\u001b[0;32m/usr/local/lib/python3.12/dist-packages/pandas/io/parsers/readers.py\u001b[0m in \u001b[0;36m_make_engine\u001b[0;34m(self, f, engine)\u001b[0m\n\u001b[1;32m   1878\u001b[0m                 \u001b[0;32mif\u001b[0m \u001b[0;34m\"b\"\u001b[0m \u001b[0;32mnot\u001b[0m \u001b[0;32min\u001b[0m \u001b[0mmode\u001b[0m\u001b[0;34m:\u001b[0m\u001b[0;34m\u001b[0m\u001b[0;34m\u001b[0m\u001b[0m\n\u001b[1;32m   1879\u001b[0m                     \u001b[0mmode\u001b[0m \u001b[0;34m+=\u001b[0m \u001b[0;34m\"b\"\u001b[0m\u001b[0;34m\u001b[0m\u001b[0;34m\u001b[0m\u001b[0m\n\u001b[0;32m-> 1880\u001b[0;31m             self.handles = get_handle(\n\u001b[0m\u001b[1;32m   1881\u001b[0m                 \u001b[0mf\u001b[0m\u001b[0;34m,\u001b[0m\u001b[0;34m\u001b[0m\u001b[0;34m\u001b[0m\u001b[0m\n\u001b[1;32m   1882\u001b[0m                 \u001b[0mmode\u001b[0m\u001b[0;34m,\u001b[0m\u001b[0;34m\u001b[0m\u001b[0;34m\u001b[0m\u001b[0m\n",
            "\u001b[0;32m/usr/local/lib/python3.12/dist-packages/pandas/io/common.py\u001b[0m in \u001b[0;36mget_handle\u001b[0;34m(path_or_buf, mode, encoding, compression, memory_map, is_text, errors, storage_options)\u001b[0m\n\u001b[1;32m    871\u001b[0m         \u001b[0;32mif\u001b[0m \u001b[0mioargs\u001b[0m\u001b[0;34m.\u001b[0m\u001b[0mencoding\u001b[0m \u001b[0;32mand\u001b[0m \u001b[0;34m\"b\"\u001b[0m \u001b[0;32mnot\u001b[0m \u001b[0;32min\u001b[0m \u001b[0mioargs\u001b[0m\u001b[0;34m.\u001b[0m\u001b[0mmode\u001b[0m\u001b[0;34m:\u001b[0m\u001b[0;34m\u001b[0m\u001b[0;34m\u001b[0m\u001b[0m\n\u001b[1;32m    872\u001b[0m             \u001b[0;31m# Encoding\u001b[0m\u001b[0;34m\u001b[0m\u001b[0;34m\u001b[0m\u001b[0m\n\u001b[0;32m--> 873\u001b[0;31m             handle = open(\n\u001b[0m\u001b[1;32m    874\u001b[0m                 \u001b[0mhandle\u001b[0m\u001b[0;34m,\u001b[0m\u001b[0;34m\u001b[0m\u001b[0;34m\u001b[0m\u001b[0m\n\u001b[1;32m    875\u001b[0m                 \u001b[0mioargs\u001b[0m\u001b[0;34m.\u001b[0m\u001b[0mmode\u001b[0m\u001b[0;34m,\u001b[0m\u001b[0;34m\u001b[0m\u001b[0;34m\u001b[0m\u001b[0m\n",
            "\u001b[0;31mFileNotFoundError\u001b[0m: [Errno 2] No such file or directory: '/content/household_power_consumption.txt'"
          ]
        }
      ]
    },
    {
      "cell_type": "markdown",
      "source": [
        "1. Carregue o dataset e exiba as 10 primeiras linhas.\n"
      ],
      "metadata": {
        "id": "YoF_2TLZBg6p"
      }
    },
    {
      "cell_type": "code",
      "source": [
        "dados.head(10)"
      ],
      "metadata": {
        "id": "1UHfcPQLBom-"
      },
      "execution_count": null,
      "outputs": []
    },
    {
      "cell_type": "markdown",
      "source": [
        "2. Explique a diferença entre as variáveis Global_active_power e Global_reactive_power.\n"
      ],
      "metadata": {
        "id": "zgwoGrRHB1xi"
      }
    },
    {
      "cell_type": "code",
      "source": [
        "# Explique a diferença entre as variáveis Global_active_power e Global_reactive_power\n",
        "# Global_active_power: Esta variável representa a potência ativa total consumida pela residência em kilowatts (kW). É a potência real que realiza trabalho útil (como acender luzes, aquecer, etc.) e é a base para a cobrança na conta de luz.\n",
        "# Global_reactive_power: Esta variável representa a potência reativa total em kilovolt-amperes reativos (kVAr). Esta potência está associada à criação e manutenção de campos eletromagnéticos em equipamentos (motores, transformadores) e não realiza trabalho útil diretamente."
      ],
      "metadata": {
        "id": "CYTSP9NfB4r6"
      },
      "execution_count": null,
      "outputs": []
    },
    {
      "cell_type": "markdown",
      "source": [
        "3. Verifique se existem valores ausentes no dataset. Quantifique-os.\n"
      ],
      "metadata": {
        "id": "5gt9ByIvCMBG"
      }
    },
    {
      "cell_type": "code",
      "source": [
        "dados.replace('?', np.nan, inplace=True)\n",
        "dados = dados.apply(pd.to_numeric, errors='ignore')\n",
        "print(dados.isnull().sum())\n"
      ],
      "metadata": {
        "id": "hUaOJ24YCNp2"
      },
      "execution_count": null,
      "outputs": []
    },
    {
      "cell_type": "markdown",
      "source": [
        "4. Converta a coluna Date para o tipo datetime e crie uma nova coluna com o dia da semana correspondente."
      ],
      "metadata": {
        "id": "MupVXVbLCmNE"
      }
    },
    {
      "cell_type": "code",
      "source": [
        "dados['Date'] = pd.to_datetime(dados['Date'], format='%d/%m/%Y', errors='coerce')\n",
        "dados['Day_of_Week'] = dados['Date'].dt.day_name()\n",
        "print(\"As primeiras 5 linhas do dataset após a criação da coluna 'Day_of_Week':\")\n",
        "display(dados.head())"
      ],
      "metadata": {
        "id": "Q6ghNpiHCr7_"
      },
      "execution_count": null,
      "outputs": []
    },
    {
      "cell_type": "markdown",
      "source": [
        "5. Filtre os registros apenas do ano de 2007 e calcule a média de consumo diário de Global_active_power."
      ],
      "metadata": {
        "id": "iogGFXwaDINj"
      }
    },
    {
      "cell_type": "code",
      "source": [
        "dados_2007 = dados[dados['Date'].dt.year == 2007]\n",
        "\n",
        "dados_2007['Global_active_power'] = pd.to_numeric(dados_2007['Global_active_power'], errors='coerce')\n",
        "\n",
        "dados_2007.dropna(subset=['Global_active_power'], inplace=True)\n",
        "\n",
        "media_diaria_2007 = dados_2007.groupby(dados_2007['Date'].dt.date)['Global_active_power'].mean()\n",
        "\n",
        "print(\"Média de consumo diário de Global_active_power em 2007:\")\n",
        "display(media_diaria_2007)"
      ],
      "metadata": {
        "id": "ivmJZEFPDRXX"
      },
      "execution_count": null,
      "outputs": []
    },
    {
      "cell_type": "markdown",
      "source": [
        "6. Gere um gráfico de linha mostrando a variação de Global_active_power em um único dia à sua escolha."
      ],
      "metadata": {
        "id": "CEr-AYOPEMTl"
      }
    },
    {
      "cell_type": "code",
      "source": [
        "dia_escolhido = '2007-01-01'\n",
        "dados_dia_escolhido = dados[dados['Date'].dt.date == pd.to_datetime(dia_escolhido).date()].copy()\n",
        "\n",
        "dados_dia_escolhido['Global_active_power'] = pd.to_numeric(dados_dia_escolhido['Global_active_power'], errors='coerce')\n",
        "\n",
        "dados_dia_escolhido.dropna(subset=['Global_active_power'], inplace=True)\n",
        "\n",
        "\n",
        "plt.figure(figsize=(12, 6))\n",
        "plt.plot(dados_dia_escolhido['Time'], dados_dia_escolhido['Global_active_power'])\n",
        "plt.title(f'Variação de Global_active_power em {dia_escolhido}')\n",
        "plt.xlabel('Hora do Dia')\n",
        "plt.ylabel('Global_active_power (kW)')\n",
        "plt.xticks(dados_dia_escolhido['Time'][::60], rotation=45)\n",
        "plt.grid(True)\n",
        "plt.tight_layout()\n",
        "plt.show()"
      ],
      "metadata": {
        "id": "CQa31YxUEPwp"
      },
      "execution_count": null,
      "outputs": []
    },
    {
      "cell_type": "markdown",
      "source": [
        "7. Crie um histograma da variável Voltage. O que pode ser observado sobre sua distribuição?\n"
      ],
      "metadata": {
        "id": "eQy_bnLQEyRu"
      }
    },
    {
      "cell_type": "code",
      "source": [
        "dados['Voltage'] = pd.to_numeric(dados['Voltage'], errors='coerce')\n",
        "plt.figure(figsize=(10,6))\n",
        "plt.hist(dados['Voltage'].dropna(), bins=50, color='skyblue', edgecolor='black')\n",
        "plt.title(\"Distribuição da variável Voltage\")\n",
        "plt.xlabel(\"Voltage (V)\")\n",
        "plt.ylabel(\"Frequência\")\n",
        "plt.grid(True)\n",
        "plt.show()"
      ],
      "metadata": {
        "id": "oaFRM6UuKKH7"
      },
      "execution_count": null,
      "outputs": []
    },
    {
      "cell_type": "markdown",
      "source": [
        "8. Calcule o consumo médio por mês em todo o período disponível no dataset.\n"
      ],
      "metadata": {
        "id": "UxWtKi9PIQtN"
      }
    },
    {
      "cell_type": "code",
      "source": [
        "dados['Date'] = pd.to_datetime(dados['Date'], format='%d/%m/%Y', errors='coerce')\n",
        "dados['Year_Month'] = dados['Date'].dt.to_period('M')\n",
        "dados.dropna(subset=['Global_active_power'], inplace=True)\n",
        "media_mensal = dados.groupby('Year_Month')['Global_active_power'].mean()\n",
        "print(\"Consumo médio de Global_active_power por mês:\")\n",
        "display(media_mensal)"
      ],
      "metadata": {
        "id": "6UHsTNILISUS"
      },
      "execution_count": null,
      "outputs": []
    },
    {
      "cell_type": "markdown",
      "source": [
        "9. Identifique o dia com maior consumo de energia ativa global (Global_active_power).\n"
      ],
      "metadata": {
        "id": "35hQQ0zVIfDq"
      }
    },
    {
      "cell_type": "code",
      "source": [
        "consumo_diario_total = dados.groupby(dados['Date'].dt.date)['Global_active_power'].sum()\n",
        "dia_maior_consumo = consumo_diario_total.idxmax()\n",
        "maior_consumo_valor = consumo_diario_total.max()\n",
        "\n",
        "print(f\"O dia com maior consumo total de energia ativa global foi {dia_maior_consumo}, com {maior_consumo_valor:.2f} kW\")"
      ],
      "metadata": {
        "id": "eAU1Y6J-Iiom"
      },
      "execution_count": null,
      "outputs": []
    },
    {
      "cell_type": "markdown",
      "source": [
        "10. Compare o consumo médio de energia ativa global em dias de semana versus finais de\n",
        "semana."
      ],
      "metadata": {
        "id": "zde2GCPOIw7j"
      }
    },
    {
      "cell_type": "code",
      "source": [
        "dados['DayOfWeek'] = dados['Date'].dt.dayofweek\n",
        "dados['Global_active_power'] = pd.to_numeric(dados['Global_active_power'], errors='coerce')\n",
        "\n",
        "semana = dados[dados['DayOfWeek'] < 5]['Global_active_power'].mean()\n",
        "fim_semana = dados[dados['DayOfWeek'] >= 5]['Global_active_power'].mean()\n",
        "\n",
        "print(f\"Consumo médio em dias de semana: {semana:.3f} kW\")\n",
        "print(f\"Consumo médio em finais de semana: {fim_semana:.3f} kW\")\n"
      ],
      "metadata": {
        "id": "877wW_2VI0lN"
      },
      "execution_count": null,
      "outputs": []
    },
    {
      "cell_type": "markdown",
      "source": [
        "11. Calcule a correlação entre as variáveis Global_active_power, Global_reactive_power, Voltage e Global_intensity."
      ],
      "metadata": {
        "id": "LHGheXjzI1KY"
      }
    },
    {
      "cell_type": "code",
      "source": [
        "variaveis = ['Global_active_power','Global_reactive_power','Voltage','Global_intensity']\n",
        "dados_corr = dados[variaveis].apply(pd.to_numeric, errors='coerce')\n",
        "correlacoes = dados_corr.corr()\n",
        "print(correlacoes)\n"
      ],
      "metadata": {
        "id": "R4tZ7rRdI5cy"
      },
      "execution_count": null,
      "outputs": []
    },
    {
      "cell_type": "markdown",
      "source": [
        "12. Crie uma nova variável chamada Total_Sub_metering que some Sub_metering_1, Sub_metering_2 e Sub_metering_3."
      ],
      "metadata": {
        "id": "etwf8F8vI5v0"
      }
    },
    {
      "cell_type": "code",
      "source": [
        "dados[['Sub_metering_1','Sub_metering_2','Sub_metering_3']] = dados[['Sub_metering_1','Sub_metering_2','Sub_metering_3']].apply(pd.to_numeric, errors='coerce')\n",
        "dados['Total_Sub_metering'] = dados['Sub_metering_1'] + dados['Sub_metering_2'] + dados['Sub_metering_3']\n",
        "dados[['Sub_metering_1','Sub_metering_2','Sub_metering_3','Total_Sub_metering']].head()"
      ],
      "metadata": {
        "id": "-6zOxK0eI8ZT"
      },
      "execution_count": null,
      "outputs": []
    },
    {
      "cell_type": "markdown",
      "source": [
        "13. Verifique se há algum mês em que Total_Sub_metering ultrapassa a média de Global_active_power."
      ],
      "metadata": {
        "id": "bFt5_2KjI85N"
      }
    },
    {
      "cell_type": "code",
      "source": [
        "media_global = dados.groupby(dados['Year_Month'])['Global_active_power'].mean()\n",
        "media_sub = dados.groupby(dados['Year_Month'])['Total_Sub_metering'].mean()\n",
        "\n",
        "comparacao = media_sub > media_global\n",
        "meses_superiores = comparacao[comparacao].index\n",
        "print(\"Meses em que Total_Sub_metering superou a média de Global_active_power:\")\n",
        "print(meses_superiores)\n"
      ],
      "metadata": {
        "id": "8FkfeHKGJG-X"
      },
      "execution_count": null,
      "outputs": []
    },
    {
      "cell_type": "markdown",
      "source": [
        "14. Faça um gráfico de série temporal do Voltage para o ano de 2008.\n"
      ],
      "metadata": {
        "id": "JU7PPtLyJCx3"
      }
    },
    {
      "cell_type": "code",
      "source": [
        "dados_2008 = dados[dados['Date'].dt.year == 2008].copy()\n",
        "plt.figure(figsize=(12,6))\n",
        "plt.plot(dados_2008['Date'], dados_2008['Voltage'], linewidth=0.5)\n",
        "plt.title(\"Variação do Voltage em 2008\")\n",
        "plt.xlabel(\"Data\")\n",
        "plt.ylabel(\"Voltage (V)\")\n",
        "plt.grid(True)\n",
        "plt.show()\n"
      ],
      "metadata": {
        "id": "GKuCT_RhJJ31"
      },
      "execution_count": null,
      "outputs": []
    },
    {
      "cell_type": "markdown",
      "source": [
        "15. Compare o consumo entre os meses de verão e inverno (no hemisfério norte).\n"
      ],
      "metadata": {
        "id": "bHcDnI1LJKYZ"
      }
    },
    {
      "cell_type": "code",
      "source": [
        "dados['Mes'] = dados['Date'].dt.month\n",
        "dados['Ano'] = dados['Date'].dt.year\n",
        "\n",
        "verao = dados[dados['Mes'].isin([6,7,8])]['Global_active_power'].mean()\n",
        "inverno = dados[dados['Mes'].isin([12,1,2])]['Global_active_power'].mean()\n",
        "\n",
        "print(f\"Consumo médio no verão: {verao:.3f} kW\")\n",
        "print(f\"Consumo médio no inverno: {inverno:.3f} kW\")\n"
      ],
      "metadata": {
        "id": "d0d_mWgZJLnt"
      },
      "execution_count": null,
      "outputs": []
    },
    {
      "cell_type": "markdown",
      "source": [
        "16. Aplique uma amostragem aleatória de 1% dos dados e verifique se a distribuição de Global_active_power é semelhante à da base completa."
      ],
      "metadata": {
        "id": "OXBNvDvoJL8S"
      }
    },
    {
      "cell_type": "code",
      "source": [
        "dados_amostra = dados.sample(frac=0.01, random_state=42)\n",
        "\n",
        "dados_amostra['Global_active_power'] = pd.to_numeric(dados_amostra['Global_active_power'], errors='coerce')\n",
        "\n",
        "dados_amostra.dropna(subset=['Global_active_power'], inplace=True)\n",
        "\n",
        "dados_amostra['Ano'] = dados_amostra['Date'].dt.year\n",
        "\n",
        "dados_filtrados_amostra = dados_amostra[dados_amostra['Ano'].isin([2007, 2008])]\n",
        "\n",
        "\n",
        "plt.figure(figsize=(10,6))\n",
        "dados_filtrados_amostra.boxplot(column='Global_active_power', by='Ano')\n",
        "plt.title(\"Comparação Global_active_power entre 2007 e 2008 (Amostra de 1%)\")\n",
        "plt.suptitle(\"\")\n",
        "plt.xlabel(\"Ano\")\n",
        "plt.ylabel(\"Global_active_power (kW)\")\n",
        "plt.show()\n",
        "\n",
        "plt.figure(figsize=(10, 6))\n",
        "sns.histplot(dados['Global_active_power'].dropna(), bins=50, color='blue', label='Base Completa', kde=True)\n",
        "sns.histplot(dados_amostra['Global_active_power'].dropna(), bins=50, color='red', label='Amostra (1%)', kde=True)\n",
        "plt.title(\"Comparação da Distribuição de Global_active_power (Base Completa vs Amostra)\")\n",
        "plt.xlabel(\"Global_active_power (kW)\")\n",
        "plt.ylabel(\"Frequência\")\n",
        "plt.legend()\n",
        "plt.show()"
      ],
      "metadata": {
        "id": "XZ22yHjZJOmJ"
      },
      "execution_count": null,
      "outputs": []
    },
    {
      "cell_type": "markdown",
      "source": [
        "17. Utilize uma técnica de normalização (Min-Max Scaling) para padronizar as variáveis numéricas principais."
      ],
      "metadata": {
        "id": "roJhv0QxJO6R"
      }
    },
    {
      "cell_type": "code",
      "source": [
        "media_anual = dados.groupby(dados['Date'].dt.year)['Global_active_power'].mean()\n",
        "media_anual.plot(kind='line', marker='o', figsize=(10,6))\n",
        "plt.title(\"Tendência de Global_active_power ao longo dos anos\")\n",
        "plt.xlabel(\"Ano\")\n",
        "plt.ylabel(\"Consumo médio (kW)\")\n",
        "plt.grid(True)\n",
        "plt.show()\n"
      ],
      "metadata": {
        "id": "LE1IZtg6JRQq"
      },
      "execution_count": null,
      "outputs": []
    },
    {
      "cell_type": "markdown",
      "metadata": {
        "id": "41775858"
      },
      "source": [
        "### 18. Aplique K-means para segmentar os dias em 3 grupos distintos de consumo elétrico. Interprete os resultados."
      ]
    },
    {
      "cell_type": "code",
      "metadata": {
        "id": "5eac5c63"
      },
      "source": [
        "from sklearn.cluster import KMeans\n",
        "from sklearn.preprocessing import StandardScaler\n",
        "\n",
        "consumo_diario = dados.groupby('Date')['Global_active_power'].sum().dropna().reset_index()\n",
        "\n",
        "scaler = StandardScaler()\n",
        "consumo_diario['Global_active_power_scaled'] = scaler.fit_transform(consumo_diario[['Global_active_power']])\n",
        "\n",
        "kmeans = KMeans(n_clusters=3, random_state=42, n_init=10)\n",
        "consumo_diario['Cluster'] = kmeans.fit_predict(consumo_diario[['Global_active_power_scaled']])\n",
        "\n",
        "date_to_cluster = dict(zip(consumo_diario['Date'], consumo_diario['Cluster']))\n",
        "\n",
        "dados['Cluster'] = dados['Date'].map(date_to_cluster)\n",
        "\n",
        "media_consumo_por_cluster = dados.groupby('Cluster')['Global_active_power'].mean()\n",
        "\n",
        "print(\"Consumo médio por cluster:\")\n",
        "print(media_consumo_por_cluster)\n",
        "\n",
        "plt.figure(figsize=(10, 6))\n",
        "sns.histplot(data=dados.dropna(subset=['Cluster']), x='Global_active_power', hue='Cluster', bins=50, kde=True)\n",
        "plt.title(\"Distribuição de Global_active_power por Cluster\")\n",
        "plt.xlabel(\"Global_active_power (kW)\")\n",
        "plt.ylabel(\"Frequência\")\n",
        "plt.show()"
      ],
      "execution_count": null,
      "outputs": []
    },
    {
      "cell_type": "markdown",
      "metadata": {
        "id": "7ac5970b"
      },
      "source": [
        "### 19. Realize uma decomposição de série temporal (tendência, sazonalidade e resíduo) para Global_active_power em um período de 6 meses."
      ]
    },
    {
      "cell_type": "code",
      "metadata": {
        "id": "7e93876f"
      },
      "source": [
        "from statsmodels.tsa.seasonal import seasonal_decompose\n",
        "\n",
        "dados_diarios = dados.groupby('Date')['Global_active_power'].mean().dropna()\n",
        "\n",
        "serie_temporal_6meses = dados_diarios['2007-01-01':'2007-06-30']\n",
        "\n",
        "decomposicao = seasonal_decompose(serie_temporal_6meses, model='additive', period=7)\n",
        "\n",
        "fig = decomposicao.plot()\n",
        "fig.set_size_inches(12, 8)\n",
        "plt.suptitle(\"Decomposição da Série Temporal de Global_active_power (Jan-Jun 2007)\")\n",
        "plt.tight_layout(rect=[0, 0.03, 1, 0.95])\n",
        "plt.show()"
      ],
      "execution_count": null,
      "outputs": []
    },
    {
      "cell_type": "markdown",
      "metadata": {
        "id": "0674a7bb"
      },
      "source": [
        "### 20. Treine um modelo de regressão linear simples para prever Global_active_power a partir de Global_intensity. Avalie o erro do modelo."
      ]
    },
    {
      "cell_type": "code",
      "metadata": {
        "id": "01c61403"
      },
      "source": [
        "from sklearn.model_selection import train_test_split\n",
        "from sklearn.linear_model import LinearRegression\n",
        "from sklearn.metrics import mean_squared_error, r2_score\n",
        "\n",
        "dados_regressao = dados[['Global_active_power', 'Global_intensity']].dropna()\n",
        "\n",
        "X = dados_regressao[['Global_intensity']]\n",
        "y = dados_regressao['Global_active_power']\n",
        "\n",
        "X_treino, X_teste, y_treino, y_teste = train_test_split(X, y, test_size=0.2, random_state=42)\n",
        "\n",
        "modelo_regressao = LinearRegression()\n",
        "modelo_regressao.fit(X_treino, y_treino)\n",
        "\n",
        "y_previsoes = modelo_regressao.predict(X_teste)\n",
        "\n",
        "mse = mean_squared_error(y_teste, y_previsoes)\n",
        "rmse = np.sqrt(mse)\n",
        "r2 = r2_score(y_teste, y_previsoes)\n",
        "\n",
        "print(f\"Erro Quadrático Médio (MSE): {mse:.2f}\")\n",
        "print(f\"Raiz do Erro Quadrático Médio (RMSE): {rmse:.2f}\")\n",
        "print(f\"Coeficiente de Determinação (R²): {r2:.2f}\")\n",
        "\n",
        "plt.figure(figsize=(10, 6))\n",
        "plt.scatter(X_teste, y_teste, color='blue', label='Valores Reais', alpha=0.5)\n",
        "plt.plot(X_teste, y_previsoes, color='red', linewidth=2, label='Previsões do Modelo')\n",
        "plt.title(\"Regressão Linear: Global_active_power vs Global_intensity\")\n",
        "plt.xlabel(\"Global_intensity (A)\")\n",
        "plt.ylabel(\"Global_active_power (kW)\")\n",
        "plt.legend()\n",
        "plt.show()"
      ],
      "execution_count": null,
      "outputs": []
    },
    {
      "cell_type": "markdown",
      "metadata": {
        "id": "91e9e556"
      },
      "source": [
        "## PARTE 2 – Exercícios adicionais no dataset inicial"
      ]
    },
    {
      "cell_type": "markdown",
      "metadata": {
        "id": "624a6ea2"
      },
      "source": [
        "### 21. Séries temporais por hora\n",
        "- Converta Date e Time em índice datetime.\n",
        "- Reamostre os dados em intervalos de 1 hora, calculando a média de Global_active_power.\n",
        "- Identifique os horários de maior consumo médio ao longo do dia."
      ]
    },
    {
      "cell_type": "code",
      "metadata": {
        "id": "5dd85477"
      },
      "source": [
        "dados['Datetime'] = pd.to_datetime(dados['Date'].astype(str) + ' ' + dados['Time'])\n",
        "dados.set_index('Datetime', inplace=True)\n",
        "\n",
        "dados_horarios = dados['Global_active_power'].resample('h').mean().dropna()\n",
        "\n",
        "consumo_medio_por_hora = dados_horarios.groupby(dados_horarios.index.hour).mean()\n",
        "\n",
        "print(\"Consumo médio de Global_active_power por hora do dia:\")\n",
        "display(consumo_medio_por_hora)\n",
        "\n",
        "plt.figure(figsize=(10, 6))\n",
        "consumo_medio_por_hora.plot(kind='bar')\n",
        "plt.title('Consumo Médio de Global_active_power por Hora do Dia')\n",
        "plt.xlabel('Hora do Dia')\n",
        "plt.ylabel('Consumo Médio (kW)')\n",
        "plt.xticks(rotation=0)\n",
        "plt.grid(axis='y')\n",
        "plt.show()"
      ],
      "execution_count": null,
      "outputs": []
    },
    {
      "cell_type": "markdown",
      "metadata": {
        "id": "3e6eb01c"
      },
      "source": [
        "### 22. Autocorrelação do consumo\n",
        "- Use a série temporal de Global_active_power.\n",
        "- Calcule a autocorrelação em lags de 1h, 24h e 48h.\n",
        "- Pergunta: existem padrões repetidos diariamente?"
      ]
    },
    {
      "cell_type": "code",
      "metadata": {
        "id": "dcab6f54"
      },
      "source": [
        "from statsmodels.graphics.tsaplots import plot_acf\n",
        "\n",
        "\n",
        "lags = [1, 24, 48]\n",
        "autocorrelacoes = {}\n",
        "\n",
        "for lag in lags:\n",
        "    series_lagged = dados_horarios.copy().dropna()\n",
        "    autocorrelation = series_lagged.autocorr(lag=lag)\n",
        "    autocorrelacoes[f'Lag {lag}h'] = autocorrelation\n",
        "\n",
        "print(\"Autocorrelação de Global_active_power:\")\n",
        "for lag, corr in autocorrelacoes.items():\n",
        "    print(f\"{lag}: {corr:.2f}\")\n",
        "\n",
        "plt.figure(figsize=(12, 6))\n",
        "plot_acf(dados_horarios.dropna(), lags=72)\n",
        "plt.title('Função de Autocorrelação (ACF) de Global_active_power (Dados Horários)')\n",
        "plt.xlabel('Lag (Horas)')\n",
        "plt.ylabel('Autocorrelação')\n",
        "plt.grid(True)\n",
        "plt.show()\n",
        "\n",
        "# Pergunta: existem padrões repetidos diariamente?\n",
        "# Resposta baseada na análise da ACF plotada acima:\n",
        "# Se a ACF mostra picos significativos em lags que são múltiplos de 24 (24h, 48h, etc.),\n",
        "# isso indica que há uma forte correlação entre o consumo de energia em um determinado\n",
        "# momento e o consumo 24 ou 48 horas antes, sugerindo um padrão diário repetido."
      ],
      "execution_count": null,
      "outputs": []
    },
    {
      "cell_type": "markdown",
      "metadata": {
        "id": "b7ca7f93"
      },
      "source": [
        "### 23. Redução de dimensionalidade com PCA\n",
        "- Selecione Global_active_power, Global_reactive_power, Voltage e Global_intensity.\n",
        "- Aplique PCA para reduzir para 2 componentes principais.\n",
        "- Analise a variância explicada por cada componente."
      ]
    },
    {
      "cell_type": "code",
      "metadata": {
        "id": "e072a59b"
      },
      "source": [
        "from sklearn.decomposition import PCA\n",
        "from sklearn.preprocessing import StandardScaler\n",
        "\n",
        "variaveis_pca = ['Global_active_power', 'Global_reactive_power', 'Voltage', 'Global_intensity']\n",
        "dados_pca = dados[variaveis_pca].dropna()\n",
        "\n",
        "scaler_pca = StandardScaler()\n",
        "dados_pca_scaled = scaler_pca.fit_transform(dados_pca)\n",
        "\n",
        "pca = PCA(n_components=2)\n",
        "componentes_principais = pca.fit_transform(dados_pca_scaled)\n",
        "\n",
        "componentes_df = pd.DataFrame(data = componentes_principais, columns = ['componente_principal_1', 'componente_principal_2'])\n",
        "\n",
        "variancia_explicada = pca.explained_variance_ratio_\n",
        "print(f\"Variância explicada pelo Componente Principal 1: {variancia_explicada[0]:.2f}\")\n",
        "print(f\"Variância explicada pelo Componente Principal 2: {variancia_explicada[1]:.2f}\")\n",
        "print(f\"Variância total explicada pelos 2 Componentes Principais: {variancia_explicada.sum():.2f}\")\n",
        "\n",
        "print(\"\\nPrimeiras 5 linhas dos componentes principais:\")\n",
        "display(componentes_df.head())"
      ],
      "execution_count": null,
      "outputs": []
    },
    {
      "cell_type": "markdown",
      "metadata": {
        "id": "01366de2"
      },
      "source": [
        "### 24. Visualização de clusters no espaço PCA\n",
        "- Combine os resultados do PCA com K-Means (3 clusters).\n",
        "- Plote os pontos resultantes e pinte cada grupo por cluster.\n",
        "- Pergunta: os grupos se separam de forma clara?"
      ]
    },
    {
      "cell_type": "code",
      "metadata": {
        "id": "ef670556"
      },
      "source": [
        "indices_pca = dados_pca.index\n",
        "\n",
        "if 'Cluster' in dados.columns:\n",
        "    clusters_para_pca = dados.loc[indices_pca, 'Cluster']\n",
        "\n",
        "    componentes_df_reset = componentes_df.reset_index(drop=True)\n",
        "    clusters_para_pca_reset = clusters_para_pca.reset_index(drop=True)\n",
        "\n",
        "    componentes_df_reset['Cluster'] = clusters_para_pca_reset\n",
        "\n",
        "    plt.figure(figsize=(10, 8))\n",
        "    sns.scatterplot(x='componente_principal_1', y='componente_principal_2', hue='Cluster', data=componentes_df_reset.dropna(subset=['Cluster']), palette='viridis', alpha=0.6)\n",
        "    plt.title('Visualização dos Clusters no Espaço PCA')\n",
        "    plt.xlabel('Componente Principal 1')\n",
        "    plt.ylabel('Componente Principal 2')\n",
        "    plt.grid(True)\n",
        "    plt.show()\n",
        "\n",
        "    # Pergunta: os grupos se separam de forma clara?\n",
        "    # Resposta baseada na visualização:\n",
        "    # Observar se os pontos de diferentes cores (clusters) formam agrupamentos distintos\n",
        "    # no gráfico de dispersão. Se houver sobreposição significativa, os clusters podem\n",
        "    # não estar bem separados neste espaço bidimensional.\n",
        "else:\n",
        "    print(\"A coluna 'Cluster' não foi encontrada no DataFrame 'dados'. Por favor, execute a Questão 18 primeiro.\")"
      ],
      "execution_count": null,
      "outputs": []
    },
    {
      "cell_type": "markdown",
      "metadata": {
        "id": "2fb57d4c"
      },
      "source": [
        "### 25. Regressão polinomial vs linear\n",
        "- Modele Global_active_power em função de Voltage.\n",
        "- Compare Regressão Linear Simples com Regressão Polinomial (grau 2).\n",
        "- Analise RMSE e a curva ajustada."
      ]
    },
    {
      "cell_type": "code",
      "metadata": {
        "id": "432b4e5b"
      },
      "source": [
        "from sklearn.linear_model import LinearRegression\n",
        "from sklearn.preprocessing import PolynomialFeatures\n",
        "from sklearn.metrics import mean_squared_error\n",
        "from sklearn.model_selection import train_test_split\n",
        "import numpy as np\n",
        "\n",
        "dados_regressao_voltage = dados[['Global_active_power', 'Voltage']].dropna()\n",
        "\n",
        "X_voltage = dados_regressao_voltage[['Voltage']]\n",
        "y_voltage = dados_regressao_voltage['Global_active_power']\n",
        "\n",
        "X_treino_v, X_teste_v, y_treino_v, y_teste_v = train_test_split(X_voltage, y_voltage, test_size=0.2, random_state=42)\n",
        "\n",
        "modelo_linear = LinearRegression()\n",
        "modelo_linear.fit(X_treino_v, y_treino_v)\n",
        "y_previsoes_linear = modelo_linear.predict(X_teste_v)\n",
        "rmse_linear = np.sqrt(mean_squared_error(y_teste_v, y_previsoes_linear))\n",
        "\n",
        "print(f\"Regressão Linear Simples - RMSE: {rmse_linear:.2f}\")\n",
        "\n",
        "poly_features = PolynomialFeatures(degree=2)\n",
        "X_treino_poly = poly_features.fit_transform(X_treino_v)\n",
        "X_teste_poly = poly_features.transform(X_teste_v)\n",
        "\n",
        "modelo_polinomial = LinearRegression()\n",
        "modelo_polinomial.fit(X_treino_poly, y_treino_v)\n",
        "y_previsoes_polinomial = modelo_polinomial.predict(X_teste_poly)\n",
        "rmse_polinomial = np.sqrt(mean_squared_error(y_teste_v, y_previsoes_polinomial))\n",
        "\n",
        "print(f\"Regressão Polinomial (grau 2) - RMSE: {rmse_polinomial:.2f}\")\n",
        "\n",
        "plt.figure(figsize=(10, 6))\n",
        "plt.scatter(X_teste_v, y_teste_v, color='blue', label='Valores Reais', alpha=0.5)\n",
        "\n",
        "X_plot = pd.DataFrame(np.linspace(X_teste_v['Voltage'].min(), X_teste_v['Voltage'].max(), 100), columns=['Voltage'])\n",
        "\n",
        "\n",
        "y_plot_linear = modelo_linear.predict(X_plot)\n",
        "plt.plot(X_plot['Voltage'], y_plot_linear, color='red', linewidth=2, label='Regressão Linear')\n",
        "\n",
        "X_plot_poly = poly_features.transform(X_plot)\n",
        "y_plot_polinomial = modelo_polinomial.predict(X_plot_poly)\n",
        "plt.plot(X_plot['Voltage'], y_plot_polinomial, color='green', linewidth=2, label='Regressão Polinomial (grau 2)')\n",
        "\n",
        "plt.title(\"Comparação entre Regressão Linear e Polinomial (Voltage vs Global_active_power)\")\n",
        "plt.xlabel(\"Voltage (V)\")\n",
        "plt.ylabel(\"Global_active_power (kW)\")\n",
        "plt.legend()\n",
        "plt.grid(True)\n",
        "plt.show()"
      ],
      "execution_count": null,
      "outputs": []
    },
    {
      "cell_type": "markdown",
      "metadata": {
        "id": "fc2aca11"
      },
      "source": [
        "### 26. Carregamento e inspeção inicial\n",
        "- Carregue o dataset no Pandas.\n",
        "- Liste tipos de dados e estatísticas descritivas (.info() e .describe())."
      ]
    },
    {
      "cell_type": "code",
      "metadata": {
        "id": "f2972084"
      },
      "source": [
        "dataset_url = 'https://archive.ics.uci.edu/ml/machine-learning-databases/00374/energydata_complete.csv'\n",
        "\n",
        "dados_energia = pd.read_csv(dataset_url)\n",
        "\n",
        "print(\"Informações do Dataset:\")\n",
        "dados_energia.info()\n",
        "\n",
        "print(\"\\nEstatísticas Descritivas do Dataset:\")\n",
        "display(dados_energia.describe())"
      ],
      "execution_count": null,
      "outputs": []
    },
    {
      "cell_type": "markdown",
      "metadata": {
        "id": "d43b06b1"
      },
      "source": [
        "### Preparação de dados\n",
        "- Converter a coluna 'date' para o tipo datetime."
      ]
    },
    {
      "cell_type": "code",
      "metadata": {
        "id": "bc69581e"
      },
      "source": [
        "dados_energia['date'] = pd.to_datetime(dados_energia['date'])\n",
        "\n",
        "print(\"Tipos de dados após a conversão da coluna 'date':\")\n",
        "print(dados_energia.info())"
      ],
      "execution_count": null,
      "outputs": []
    },
    {
      "cell_type": "markdown",
      "metadata": {
        "id": "885d6040"
      },
      "source": [
        "### 27. Distribuição do consumo\n",
        "- Crie histogramas e séries temporais para a variável Appliances.\n",
        "- Pergunta: o consumo tende a se concentrar em valores baixos ou altos?"
      ]
    },
    {
      "cell_type": "code",
      "metadata": {
        "id": "31491440"
      },
      "source": [
        "import matplotlib.pyplot as plt\n",
        "import seaborn as sns\n",
        "\n",
        "plt.figure(figsize=(10, 6))\n",
        "sns.histplot(dados_energia['Appliances'], bins=50, kde=True)\n",
        "plt.title('Distribuição do Consumo de Energia (Appliances)')\n",
        "plt.xlabel('Consumo de Energia (Wh)')\n",
        "plt.ylabel('Frequência')\n",
        "plt.grid(True)\n",
        "plt.show()\n",
        "\n",
        "dados_energia.set_index('date', inplace=True)\n",
        "appliances_horario = dados_energia['Appliances'].resample('h').mean()\n",
        "\n",
        "plt.figure(figsize=(15, 7))\n",
        "appliances_horario.plot()\n",
        "plt.title('Série Temporal do Consumo Médio de Energia (Appliances) por Hora')\n",
        "plt.xlabel('Data')\n",
        "plt.ylabel('Consumo Médio de Energia (Wh)')\n",
        "plt.grid(True)\n",
        "plt.show()\n",
        "\n",
        "# Pergunta: o consumo tende a se concentrar em valores baixos ou altos?\n",
        "# Resposta baseada nos gráficos:\n",
        "# Observando o histograma, verifique onde a maioria dos valores de consumo se agrupa (mais à esquerda para valores baixos, mais à direita para valores altos)."
      ],
      "execution_count": null,
      "outputs": []
    },
    {
      "cell_type": "markdown",
      "metadata": {
        "id": "00f0053c"
      },
      "source": [
        "### 28. Correlações com variáveis ambientais\n",
        "- Calcule correlações entre Appliances e variáveis como temperatura e umidade.\n",
        "- Pergunta: quais fatores têm mais relação com o consumo?"
      ]
    },
    {
      "cell_type": "code",
      "metadata": {
        "id": "046518ae"
      },
      "source": [
        "variaveis_ambientais = ['T1', 'RH_1', 'T2', 'RH_2', 'T3', 'RH_3', 'T4', 'RH_4', 'T5', 'RH_5',\n",
        "                        'T6', 'RH_6', 'T7', 'RH_7', 'T8', 'RH_8', 'T9', 'RH_9',\n",
        "                        'T_out', 'Press_mm_hg', 'RH_out', 'Windspeed', 'Visibility', 'Tdewpoint']\n",
        "\n",
        "correlacoes_ambientais = dados_energia[['Appliances'] + variaveis_ambientais].corr()['Appliances'].sort_values(ascending=False)\n",
        "\n",
        "print(\"Correlações de Appliances com variáveis ambientais:\")\n",
        "display(correlacoes_ambientais)\n",
        "\n",
        "# Pergunta: quais fatores têm mais relação com o consumo?\n",
        "# Resposta baseada nos resultados da correlação:\n",
        "# Os fatores com os maiores valores absolutos de correlação (mais próximos de 1 ou -1)\n",
        "# são os que têm mais relação com o consumo. Analisar os valores e identificar quais\n",
        "# variáveis ambientais apresentam as correlações mais fortes."
      ],
      "execution_count": null,
      "outputs": []
    },
    {
      "cell_type": "markdown",
      "metadata": {
        "id": "6b016300"
      },
      "source": [
        "### 29. Normalização dos dados\n",
        "- Aplique Min-Max Scaling às variáveis numéricas.\n",
        "- Reutilize esses dados em modelos posteriores."
      ]
    },
    {
      "cell_type": "code",
      "metadata": {
        "id": "d4ebff88"
      },
      "source": [
        "from sklearn.preprocessing import MinMaxScaler\n",
        "\n",
        "colunas_numericas = dados_energia.select_dtypes(include=np.number).columns.tolist()\n",
        "colunas_para_normalizar = [col for col in colunas_numericas if col not in ['Appliances', 'lights']]\n",
        "\n",
        "dados_energia_scaled = dados_energia.copy()\n",
        "\n",
        "scaler = MinMaxScaler()\n",
        "\n",
        "dados_energia_scaled[colunas_para_normalizar] = scaler.fit_transform(dados_energia_scaled[colunas_para_normalizar])\n",
        "\n",
        "print(\"Primeiras 5 linhas do DataFrame com variáveis numéricas normalizadas:\")\n",
        "display(dados_energia_scaled.head())\n",
        "\n",
        "print(\"\\nEstatísticas descritivas das variáveis numéricas normalizadas:\")\n",
        "display(dados_energia_scaled[colunas_para_normalizar].describe())"
      ],
      "execution_count": null,
      "outputs": []
    },
    {
      "cell_type": "markdown",
      "metadata": {
        "id": "063ef389"
      },
      "source": [
        "### 30. PCA\n",
        "- Aplique PCA e reduza para 2 componentes principais.\n",
        "- Plote os dados resultantes.\n",
        "- Pergunta: aparecem padrões ou agrupamentos naturais?"
      ]
    },
    {
      "cell_type": "code",
      "metadata": {
        "id": "e1189602"
      },
      "source": [
        "from sklearn.decomposition import PCA\n",
        "from sklearn.preprocessing import StandardScaler\n",
        "import matplotlib.pyplot as plt\n",
        "import seaborn as sns\n",
        "\n",
        "variaveis_pca_energia = dados_energia_scaled.select_dtypes(include=np.number).columns.tolist()\n",
        "variaveis_para_pca = [col for col in variaveis_pca_energia if col not in ['Appliances', 'lights']]\n",
        "\n",
        "dados_para_pca = dados_energia_scaled[variaveis_para_pca].copy()\n",
        "\n",
        "pca_energia = PCA(n_components=2)\n",
        "componentes_principais_energia = pca_energia.fit_transform(dados_para_pca)\n",
        "\n",
        "componentes_df_energia = pd.DataFrame(data = componentes_principais_energia,\n",
        "                                      columns = ['componente_principal_1', 'componente_principal_2'])\n",
        "\n",
        "componentes_df_energia['Appliances'] = dados_energia_scaled['Appliances'].values\n",
        "\n",
        "plt.figure(figsize=(10, 8))\n",
        "sns.scatterplot(x='componente_principal_1', y='componente_principal_2', hue='Appliances', data=componentes_df_energia, palette='viridis', alpha=0.6, s=10) # s controla o tamanho dos pontos\n",
        "plt.title('Visualização dos Dados no Espaço PCA (Colorido por Consumo de Energia)')\n",
        "plt.xlabel('Componente Principal 1')\n",
        "plt.ylabel('Componente Principal 2')\n",
        "plt.grid(True)\n",
        "plt.show()\n",
        "\n",
        "variancia_explicada_energia = pca_energia.explained_variance_ratio_\n",
        "print(f\"Variância explicada pelo Componente Principal 1: {variancia_explicada_energia[0]:.2f}\")\n",
        "print(f\"Variância explicada pelo Componente Principal 2: {variancia_explicada_energia[1]:.2f}\")\n",
        "print(f\"Variância total explicada pelos 2 Componentes Principais: {variancia_explicada_energia.sum():.2f}\")\n",
        "\n",
        "\n",
        "# Pergunta: aparecem padrões ou agrupamentos naturais?\n",
        "# Resposta baseada na visualização:\n",
        "# Observar o scatter plot. Se os pontos formarem aglomerados distintos, isso pode indicar agrupamentos naturais.\n",
        "# A coloração por 'Appliances' pode mostrar se há uma separação visual clara entre diferentes níveis de consumo no espaço PCA."
      ],
      "execution_count": null,
      "outputs": []
    },
    {
      "cell_type": "markdown",
      "metadata": {
        "id": "d1bf239c"
      },
      "source": [
        "### 31. Regressão Linear Múltipla\n",
        "- Modele Appliances em função das variáveis ambientais.\n",
        "- Avalie R² e erro médio."
      ]
    },
    {
      "cell_type": "code",
      "metadata": {
        "id": "ad5f101a"
      },
      "source": [
        "from sklearn.model_selection import train_test_split\n",
        "from sklearn.linear_model import LinearRegression\n",
        "from sklearn.metrics import mean_squared_error, r2_score\n",
        "import numpy as np\n",
        "\n",
        "variaveis_ambientais_scaled = [col for col in dados_energia_scaled.select_dtypes(include=np.number).columns if col not in ['Appliances', 'lights']]\n",
        "X = dados_energia_scaled[variaveis_ambientais_scaled]\n",
        "y = dados_energia_scaled['Appliances']\n",
        "\n",
        "X_treino, X_teste, y_treino, y_teste = train_test_split(X, y, test_size=0.3, random_state=42)\n",
        "\n",
        "modelo_regressao_linear = LinearRegression()\n",
        "modelo_regressao_linear.fit(X_treino, y_treino)\n",
        "\n",
        "y_previsoes_linear = modelo_regressao_linear.predict(X_teste)\n",
        "\n",
        "mse_linear = mean_squared_error(y_teste, y_previsoes_linear)\n",
        "rmse_linear = np.sqrt(mse_linear)\n",
        "r2_linear = r2_score(y_teste, y_previsoes_linear)\n",
        "\n",
        "print(f\"Regressão Linear Múltipla:\")\n",
        "print(f\"Erro Quadrático Médio (MSE): {mse_linear:.2f}\")\n",
        "print(f\"Raiz do Erro Quadrático Médio (RMSE): {rmse_linear:.2f}\")\n",
        "print(f\"Coeficiente de Determinação (R²): {r2_linear:.2f}\")\n",
        "\n",
        "plt.figure(figsize=(10, 6))\n",
        "plt.scatter(y_teste.head(100), y_previsoes_linear[:100], color='blue', alpha=0.6)\n",
        "plt.plot([y_teste.min(), y_teste.max()], [y_teste.min(), y_teste.max()], 'k--', lw=2)\n",
        "plt.title(\"Regressão Linear Múltipla: Valores Reais vs Previsões (Amostra)\")\n",
        "plt.xlabel(\"Valores Reais de Appliances\")\n",
        "plt.ylabel(\"Previsões de Appliances\")\n",
        "plt.grid(True)\n",
        "plt.show()"
      ],
      "execution_count": null,
      "outputs": []
    },
    {
      "cell_type": "markdown",
      "metadata": {
        "id": "ebbb99a4"
      },
      "source": [
        "### 32. Random Forest Regressor\n",
        "- Treine um modelo de Random Forest para prever Appliances.\n",
        "- Compare o RMSE com a regressão linear."
      ]
    },
    {
      "cell_type": "code",
      "metadata": {
        "id": "1a2469cb"
      },
      "source": [
        "from sklearn.ensemble import RandomForestRegressor\n",
        "from sklearn.metrics import mean_squared_error\n",
        "import numpy as np\n",
        "\n",
        "modelo_rf = RandomForestRegressor(n_estimators=100, random_state=42)\n",
        "modelo_rf.fit(X_treino, y_treino)\n",
        "\n",
        "y_previsoes_rf = modelo_rf.predict(X_teste)\n",
        "\n",
        "mse_rf = mean_squared_error(y_teste, y_previsoes_rf)\n",
        "rmse_rf = np.sqrt(mse_rf)\n",
        "\n",
        "print(f\"Random Forest Regressor - RMSE: {rmse_rf:.2f}\")\n",
        "\n",
        "print(f\"Regressão Linear Múltipla - RMSE: {rmse_linear:.2f}\")\n",
        "\n",
        "# Pergunta: Como o RMSE se compara?\n",
        "# Resposta: Comparar os valores de RMSE. Um RMSE menor indica um modelo com melhor desempenho (menor erro de previsão)."
      ],
      "execution_count": null,
      "outputs": []
    },
    {
      "cell_type": "markdown",
      "metadata": {
        "id": "a1b4dbb1"
      },
      "source": [
        "### 33. K-Means clustering\n",
        "- Aplique K-Means com 3 a 5 clusters.\n",
        "- Interprete os perfis de consumo."
      ]
    },
    {
      "cell_type": "code",
      "metadata": {
        "id": "597b050d"
      },
      "source": [
        "from sklearn.cluster import KMeans\n",
        "from sklearn.preprocessing import StandardScaler\n",
        "import matplotlib.pyplot as plt\n",
        "import seaborn as sns\n",
        "\n",
        "variaveis_para_kmeans = [col for col in dados_energia_scaled.select_dtypes(include=np.number).columns if col not in ['Appliances', 'lights', 'rv1', 'rv2']]\n",
        "\n",
        "dados_para_kmeans = dados_energia_scaled[variaveis_para_kmeans].copy()\n",
        "\n",
        "n_clusters = 3\n",
        "kmeans = KMeans(n_clusters=n_clusters, random_state=42, n_init=10)\n",
        "dados_energia_scaled['Cluster_KMeans'] = kmeans.fit_predict(dados_para_kmeans)\n",
        "\n",
        "dados_energia['Cluster_KMeans'] = dados_energia_scaled['Cluster_KMeans']\n",
        "\n",
        "perfil_clusters = dados_energia.groupby('Cluster_KMeans')[['Appliances'] + variaveis_para_kmeans].mean()\n",
        "\n",
        "print(f\"Perfis de consumo para {n_clusters} clusters:\")\n",
        "display(perfil_clusters)\n",
        "\n",
        "plt.figure(figsize=(10, 6))\n",
        "sns.boxplot(x='Cluster_KMeans', y='Appliances', data=dados_energia)\n",
        "plt.title(f'Distribuição de Appliances por Cluster ({n_clusters} Clusters)')\n",
        "plt.xlabel('Cluster')\n",
        "plt.ylabel('Consumo de Energia (Wh)')\n",
        "plt.show()\n",
        "\n"
      ],
      "execution_count": null,
      "outputs": []
    },
    {
      "cell_type": "markdown",
      "metadata": {
        "id": "87f43c8c"
      },
      "source": [
        "### 34. Classificação binária\n",
        "- Crie uma variável: alto vs baixo consumo (Appliances maior/menor que a mediana).\n",
        "- Treine Logistic Regression e Random Forest Classifier."
      ]
    },
    {
      "cell_type": "code",
      "metadata": {
        "id": "d6c1e990"
      },
      "source": [
        "from sklearn.model_selection import train_test_split\n",
        "from sklearn.linear_model import LogisticRegression\n",
        "from sklearn.ensemble import RandomForestClassifier\n",
        "from sklearn.metrics import accuracy_score, classification_report, confusion_matrix\n",
        "\n",
        "mediana_appliances = dados_energia_scaled['Appliances'].median()\n",
        "dados_energia_scaled['Consumo_Alto'] = (dados_energia_scaled['Appliances'] > mediana_appliances).astype(int)\n",
        "\n",
        "variaveis_para_classificacao = [col for col in dados_energia_scaled.select_dtypes(include=np.number).columns if col not in ['Appliances', 'Consumo_Alto']]\n",
        "X_class = dados_energia_scaled[variaveis_para_classificacao]\n",
        "y_class = dados_energia_scaled['Consumo_Alto']\n",
        "\n",
        "X_treino_class, X_teste_class, y_treino_class, y_teste_class = train_test_split(X_class, y_class, test_size=0.3, random_state=42, stratify=y_class) # Usar stratify para manter a proporção das classes\n",
        "\n",
        "modelo_regressao_logistica = LogisticRegression(random_state=42, max_iter=1000)\n",
        "modelo_regressao_logistica.fit(X_treino_class, y_treino_class)\n",
        "\n",
        "modelo_rf_classifier = RandomForestClassifier(n_estimators=100, random_state=42)\n",
        "modelo_rf_classifier.fit(X_treino_class, y_treino_class)\n",
        "\n",
        "print(\"Modelos de classificação treinados: Regressão Logística e Random Forest Classifier.\")"
      ],
      "execution_count": null,
      "outputs": []
    },
    {
      "cell_type": "markdown",
      "metadata": {
        "id": "01d1692d"
      },
      "source": [
        "### 35. Avaliação de classificação\n",
        "- Gere matriz de confusão e métricas (accuracy, precision, recall, F1-score).\n",
        "- Pergunta: o modelo erra mais para alto ou para baixo consumo?"
      ]
    },
    {
      "cell_type": "code",
      "metadata": {
        "id": "c2f8418a"
      },
      "source": [
        "from sklearn.metrics import accuracy_score, classification_report, confusion_matrix\n",
        "import seaborn as sns\n",
        "import matplotlib.pyplot as plt\n",
        "\n",
        "y_previsoes_logistica = modelo_regressao_logistica.predict(X_teste_class)\n",
        "\n",
        "print(\"Avaliação do Modelo de Regressão Logística:\")\n",
        "print(f\"Acurácia: {accuracy_score(y_teste_class, y_previsoes_logistica):.2f}\")\n",
        "print(\"\\nRelatório de Classificação:\")\n",
        "print(classification_report(y_teste_class, y_previsoes_logistica))\n",
        "print(\"\\nMatriz de Confusão:\")\n",
        "cm_logistica = confusion_matrix(y_teste_class, y_previsoes_logistica)\n",
        "sns.heatmap(cm_logistica, annot=True, fmt='d', cmap='Blues', xticklabels=['Baixo Consumo', 'Alto Consumo'], yticklabels=['Baixo Consumo', 'Alto Consumo'])\n",
        "plt.xlabel('Previsto')\n",
        "plt.ylabel('Real')\n",
        "plt.title('Matriz de Confusão - Regressão Logística')\n",
        "plt.show()\n",
        "\n",
        "y_previsoes_rf_class = modelo_rf_classifier.predict(X_teste_class)\n",
        "\n",
        "print(\"\\n\" + \"=\"*50 + \"\\n\")\n",
        "print(\"Avaliação do Modelo Random Forest Classifier:\")\n",
        "print(f\"Acurácia: {accuracy_score(y_teste_class, y_previsoes_rf_class):.2f}\")\n",
        "print(\"\\nRelatório de Classificação:\")\n",
        "print(classification_report(y_teste_class, y_previsoes_rf_class))\n",
        "print(\"\\nMatriz de Confusão:\")\n",
        "cm_rf = confusion_matrix(y_teste_class, y_previsoes_rf_class)\n",
        "sns.heatmap(cm_rf, annot=True, fmt='d', cmap='Blues', xticklabels=['Baixo Consumo', 'Alto Consumo'], yticklabels=['Baixo Consumo', 'Alto Consumo'])\n",
        "plt.xlabel('Previsto')\n",
        "plt.ylabel('Real')\n",
        "plt.title('Matriz de Confusão - Random Forest Classifier')\n",
        "plt.show()\n",
        "\n",
        "# Pergunta: o modelo erra mais para alto ou para baixo consumo?\n",
        "# Resposta baseada nas matrizes de confusão:\n",
        "# Analisar as matrizes de confusão.\n",
        "# Erros para \"Alto Consumo\" (Falsos Negativos): prevê Baixo, mas é Alto (canto inferior esquerdo da matriz).\n",
        "# Erros para \"Baixo Consumo\" (Falsos Positivos): prevê Alto, mas é Baixo (canto superior direito da matriz).\n",
        "# Comparar o número de Falsos Negativos e Falsos Positivos para cada modelo."
      ],
      "execution_count": null,
      "outputs": []
    },
    {
      "cell_type": "markdown",
      "source": [
        "36. Importação e visualização inicial"
      ],
      "metadata": {
        "id": "PR8iKRVzWEq0"
      }
    },
    {
      "cell_type": "code",
      "source": [
        "# São 9 variáveis e 2075259 registros."
      ],
      "metadata": {
        "id": "l3r4lEMRWJO7"
      },
      "execution_count": null,
      "outputs": []
    },
    {
      "cell_type": "markdown",
      "source": [
        "37. Amostragem de dados (1%)\n",
        "\n",
        "\n"
      ],
      "metadata": {
        "id": "HfaVOCgdWINT"
      }
    },
    {
      "cell_type": "code",
      "source": [
        "# Sim, são semelhantes."
      ],
      "metadata": {
        "id": "QDc1q3ENWWor"
      },
      "execution_count": null,
      "outputs": []
    },
    {
      "cell_type": "markdown",
      "source": [
        "38. Distribuição do consumo\n"
      ],
      "metadata": {
        "id": "qGU8Ix6-WZdR"
      }
    },
    {
      "cell_type": "code",
      "source": [
        "# Concentrada em valores baixos."
      ],
      "metadata": {
        "id": "VzgLJICtWbAb"
      },
      "execution_count": null,
      "outputs": []
    },
    {
      "cell_type": "markdown",
      "source": [
        "39. Relação entre variáveis elétricas\n"
      ],
      "metadata": {
        "id": "OsWd8LlXWdRy"
      }
    },
    {
      "cell_type": "code",
      "source": [
        "# Existe, quanto maior a Global_active_power, menor e mais estável é a voltagem."
      ],
      "metadata": {
        "id": "9lXLuvKQWetM"
      },
      "execution_count": null,
      "outputs": []
    },
    {
      "cell_type": "markdown",
      "source": [
        "40. Clustering com K-Means\n"
      ],
      "metadata": {
        "id": "xSX_jrC7WhMN"
      }
    },
    {
      "cell_type": "code",
      "source": [
        "# Sim, a distribuição dos sub_metering são distintas em cada cenário, oscilando bastante, mesmo o 1 e 2 sendo mais parecidos."
      ],
      "metadata": {
        "id": "h-x9U2BSWiia"
      },
      "execution_count": null,
      "outputs": []
    }
  ]
}